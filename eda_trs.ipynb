{
 "cells": [
  {
   "cell_type": "code",
   "execution_count": 1,
   "id": "a6500957-3cdc-44b7-8b58-4b74288e5f0b",
   "metadata": {},
   "outputs": [],
   "source": [
    "import pandas as pd\n",
    "import plotly.express as px\n",
    "import plotly.io as pio\n",
    "pio.renderers.default = 'iframe'"
   ]
  },
  {
   "cell_type": "code",
   "execution_count": 2,
   "id": "2b97fa06-9c7f-4297-a0de-4fdece10c025",
   "metadata": {},
   "outputs": [],
   "source": [
    "df = pd.read_csv(\"all_trs.csv\")"
   ]
  },
  {
   "cell_type": "code",
   "execution_count": 3,
   "id": "8dc8b3c1-ba1f-4006-a491-0b502ef18b05",
   "metadata": {},
   "outputs": [],
   "source": [
    "## Filtering down to latest equities and only bonds with a future maturity date\n",
    "latest_df = df[\n",
    "    ((df[\"Asset Class\"] == \"EQUITY\") & (df[\"Period End Date\"] == \"06/30/2023\"))\n",
    "    |\n",
    "    ((df[\"Asset Class\"] == \"FIXED INCOME\") & (pd.to_datetime(df[\"Maturity Date\"]) >= pd.to_datetime(\"06/30/2023\")))\n",
    "].drop_duplicates()"
   ]
  },
  {
   "cell_type": "markdown",
   "id": "b2aa6458-3bcf-4517-afe3-59cf554c541d",
   "metadata": {},
   "source": [
    "# The Whole Portfolio"
   ]
  },
  {
   "cell_type": "code",
   "execution_count": 4,
   "id": "b6347f98-9211-4345-9704-a41484d6d815",
   "metadata": {},
   "outputs": [
    {
     "data": {
      "text/plain": [
       "'Total Bonds and Stocks under management: $213,951,979,703.22'"
      ]
     },
     "execution_count": 4,
     "metadata": {},
     "output_type": "execute_result"
    }
   ],
   "source": [
    "total_assets = latest_df[\"Base Market Value\"].sum()\n",
    "\"Total Bonds and Stocks under management: \" + '${:,.2f}'.format(total_assets)"
   ]
  },
  {
   "cell_type": "code",
   "execution_count": 5,
   "id": "3df9151a-037f-4668-aba6-2458e22b59c0",
   "metadata": {},
   "outputs": [
    {
     "data": {
      "text/plain": [
       "'Total Stocks under management: $63,822,942,400.76'"
      ]
     },
     "execution_count": 5,
     "metadata": {},
     "output_type": "execute_result"
    }
   ],
   "source": [
    "by_asset_class = latest_df.groupby(\"Asset Class\")[\"Base Market Value\"].sum()\n",
    "\"Total Stocks under management: \" + '${:,.2f}'.format( by_asset_class[\"EQUITY\"])"
   ]
  },
  {
   "cell_type": "code",
   "execution_count": 6,
   "id": "01b8a329-5ced-4f38-a9e0-6bc592c2d0eb",
   "metadata": {},
   "outputs": [
    {
     "data": {
      "text/plain": [
       "'Total Bonds under management: $150,129,037,302.46'"
      ]
     },
     "execution_count": 6,
     "metadata": {},
     "output_type": "execute_result"
    }
   ],
   "source": [
    "\"Total Bonds under management: \" + '${:,.2f}'.format( by_asset_class[\"FIXED INCOME\"])"
   ]
  },
  {
   "cell_type": "code",
   "execution_count": 7,
   "id": "60f3937e-ea16-4eb3-aacc-e54c464df113",
   "metadata": {},
   "outputs": [
    {
     "ename": "NameError",
     "evalue": "name 'share_by_major_industry' is not defined",
     "output_type": "error",
     "traceback": [
      "\u001b[0;31m---------------------------------------------------------------------------\u001b[0m",
      "\u001b[0;31mNameError\u001b[0m                                 Traceback (most recent call last)",
      "Cell \u001b[0;32mIn[7], line 1\u001b[0m\n\u001b[0;32m----> 1\u001b[0m share_by_major_industry_top_15 \u001b[38;5;241m=\u001b[39m \u001b[43mshare_by_major_industry\u001b[49m[\u001b[38;5;241m0\u001b[39m:\u001b[38;5;241m15\u001b[39m]\n\u001b[1;32m      2\u001b[0m fig \u001b[38;5;241m=\u001b[39m px\u001b[38;5;241m.\u001b[39mbar(\n\u001b[1;32m      3\u001b[0m     share_by_major_industry_top_15,\n\u001b[1;32m      4\u001b[0m     x\u001b[38;5;241m=\u001b[39m\u001b[38;5;124m\"\u001b[39m\u001b[38;5;124mMajor Industry Name\u001b[39m\u001b[38;5;124m\"\u001b[39m,\n\u001b[0;32m   (...)\u001b[0m\n\u001b[1;32m      7\u001b[0m     title\u001b[38;5;241m=\u001b[39m\u001b[38;5;124m\"\u001b[39m\u001b[38;5;124mTop 15 Industries in our Portfolio (Major Industry)\u001b[39m\u001b[38;5;124m\"\u001b[39m\n\u001b[1;32m      8\u001b[0m )\n\u001b[1;32m      9\u001b[0m fig\u001b[38;5;241m.\u001b[39mupdate_layout(showlegend\u001b[38;5;241m=\u001b[39m\u001b[38;5;28;01mFalse\u001b[39;00m)\n",
      "\u001b[0;31mNameError\u001b[0m: name 'share_by_major_industry' is not defined"
     ]
    }
   ],
   "source": [
    "share_by_major_industry_top_15 = share_by_major_industry[0:15]\n",
    "fig = px.bar(\n",
    "    share_by_major_industry_top_15,\n",
    "    x=\"Major Industry Name\",\n",
    "    y=\"Base Market Value\",\n",
    "    color=\"Major Industry Name\",\n",
    "    title=\"Top 15 Industries in our Portfolio (Major Industry)\"\n",
    ")\n",
    "fig.update_layout(showlegend=False)\n",
    "fig.show()"
   ]
  },
  {
   "cell_type": "code",
   "execution_count": null,
   "id": "2f177721-e340-47e1-a1d0-dfd72f2c720f",
   "metadata": {},
   "outputs": [],
   "source": [
    "share_by_minor_industry_top_15 = share_by_minor_industry[0:15]\n",
    "fig = px.bar(\n",
    "    share_by_minor_industry_top_15,\n",
    "    x=\"Minor Industry Name\",\n",
    "    y=\"Base Market Value\",\n",
    "    color=\"Minor Industry Name\",\n",
    "    title=\"Top 15 Industries in our Portfolio (Minor Industry)\"\n",
    ")\n",
    "fig.update_layout(showlegend=False)\n",
    "fig.show()"
   ]
  },
  {
   "cell_type": "markdown",
   "id": "a7227648-dd4f-4848-8066-3a886df202b8",
   "metadata": {},
   "source": [
    "# ONLY + ALL Israeli Securities"
   ]
  },
  {
   "cell_type": "code",
   "execution_count": null,
   "id": "cff56027-c336-4fbf-99f4-b6bae1eb689b",
   "metadata": {},
   "outputs": [],
   "source": [
    "israeli_bonds = latest_df[\n",
    "    (latest_df[\"Asset Class\"] == \"FIXED INCOME\")\n",
    "    &\n",
    "    (latest_df[\"Major Industry Name\"] == \"YANKEE\")\n",
    "    &\n",
    "    (latest_df[\"Trade Country Name\"].str.contains(\"ISRAEL\"))\n",
    "]"
   ]
  },
  {
   "cell_type": "code",
   "execution_count": null,
   "id": "ecfdbc3c-b026-4dc7-b05b-d467fd9c1149",
   "metadata": {},
   "outputs": [],
   "source": [
    "israeli_bond_total = israeli_bonds[\"Base Market Value\"].sum()\n",
    "\"Total Israeli Bonds under management: \" + '${:,.2f}'.format(israeli_bond_total)"
   ]
  },
  {
   "cell_type": "code",
   "execution_count": null,
   "id": "b4136179-287e-4d91-9981-030d4beffbba",
   "metadata": {},
   "outputs": [],
   "source": [
    "## this filter on security description seemed to give the desired stock groupings, all companies traded in Israel as well as\n",
    "## CYBERARK SOFTWARE LTD/ISRAEL which is an iseraeli tech co traded in the US \n",
    "israeli_stocks = latest_df[\n",
    "    (latest_df[\"Asset Class\"] == \"EQUITY\")\n",
    "    &\n",
    "    (latest_df[\"Security Description\"].str.contains(\"COMMON STOCK ILS\"))\n",
    "]"
   ]
  },
  {
   "cell_type": "code",
   "execution_count": null,
   "id": "0aa3cfb2-8699-437e-91e5-6df696571c54",
   "metadata": {},
   "outputs": [],
   "source": [
    "\"Total Israeli Stocks under management: \" + '${:,.2f}'.format(israeli_stocks[\"Base Market Value\"].sum())"
   ]
  },
  {
   "cell_type": "code",
   "execution_count": null,
   "id": "00000b9b-ed6f-4f61-ae9a-cf4cb7f30cca",
   "metadata": {},
   "outputs": [],
   "source": [
    "all_israeli_equities = latest_df[\n",
    "    (\n",
    "        (latest_df[\"Asset Class\"] == \"FIXED INCOME\")\n",
    "        &\n",
    "        (latest_df[\"Major Industry Name\"] == \"YANKEE\")\n",
    "        &\n",
    "        (latest_df[\"Trade Country Name\"].str.contains(\"ISRAEL\"))\n",
    "    )\n",
    "    |\n",
    "    (\n",
    "        (latest_df[\"Asset Class\"] == \"EQUITY\")\n",
    "        &\n",
    "        (latest_df[\"Security Description\"].str.contains(\"COMMON STOCK ILS\"))\n",
    "    )\n",
    "\n",
    "]"
   ]
  },
  {
   "cell_type": "code",
   "execution_count": null,
   "id": "89fc3dad-019b-4ea3-8d3f-2bcdd6fa3201",
   "metadata": {},
   "outputs": [],
   "source": [
    "israeli_total = all_israeli_equities[\"Base Market Value\"].sum()\n",
    "israeli_percentage = (israeli_total/total_assets) * 100\n",
    "\"Total Israeli Stocks and Bonds under management: \" + '${:,.2f}'.format(israeli_total) + \". This is \" + '{:,.4f}'.format(israeli_percentage) + \"% of the total portfolio.\""
   ]
  },
  {
   "cell_type": "code",
   "execution_count": null,
   "id": "22159804-be9d-4abd-a201-f62283e3ed9a",
   "metadata": {},
   "outputs": [],
   "source": [
    "israel_share_by_industry = all_israeli_equities.groupby(\"Major Industry Name\")[\"Base Market Value\"].sum().reset_index().sort_values(\"Base Market Value\", ascending = False)\n",
    "fig = px.bar(\n",
    "    israel_share_by_industry,\n",
    "    x=\"Major Industry Name\",\n",
    "    y=\"Base Market Value\",\n",
    "    color=\"Major Industry Name\",\n",
    "    title=\"Top Israeli Industries in our Portfolio (Major Industry)\"\n",
    ")\n",
    "fig.update_layout(showlegend=False)\n",
    "fig.show()"
   ]
  },
  {
   "cell_type": "code",
   "execution_count": null,
   "id": "8980a590-c204-425e-a17d-e332f241aba4",
   "metadata": {},
   "outputs": [],
   "source": [
    "israel_share_by_industry = all_israeli_equities.groupby(\"Minor Industry Name\")[\"Base Market Value\"].sum().reset_index().sort_values(\"Base Market Value\", ascending = False)[0:15]\n",
    "fig = px.bar(\n",
    "    israel_share_by_industry,\n",
    "    x=\"Minor Industry Name\",\n",
    "    y=\"Base Market Value\",\n",
    "    color=\"Minor Industry Name\",\n",
    "    title=\"Top Israeli Industries in our Portfolio (Minor Industry)\"\n",
    ")\n",
    "fig.update_layout(showlegend=False)\n",
    "fig.show()"
   ]
  },
  {
   "cell_type": "markdown",
   "id": "0686e5a3-cd4f-4ffd-8f7c-e20227b7d84b",
   "metadata": {},
   "source": [
    "# Defense Industry"
   ]
  },
  {
   "cell_type": "code",
   "execution_count": null,
   "id": "de147519-c0ab-4e45-a79d-b5a1ae6c6eb5",
   "metadata": {},
   "outputs": [],
   "source": [
    "# There are a few corporate bonds purchased from Lockheed Martin so we include fixed income\n",
    "defense = latest_df[latest_df[\"Minor Industry Name\"] == \"AEROSPACE & DEFENSE\"]"
   ]
  },
  {
   "cell_type": "code",
   "execution_count": null,
   "id": "7192a21d-b2c6-4347-9d8e-6ae095859096",
   "metadata": {},
   "outputs": [],
   "source": [
    "defence_total = defense[\"Base Market Value\"].sum()\n",
    "defense_percentage = (defence_total/total_assets) * 100\n",
    "\"Total Defense Stocks under management: \" + '${:,.2f}'.format(defence_total) + \". This is \" + '{:,.4f}'.format(defense_percentage) + \"% of the total portfolio.\""
   ]
  },
  {
   "cell_type": "code",
   "execution_count": null,
   "id": "4084b4b7-e5f9-467f-8e6f-7436ef72013f",
   "metadata": {},
   "outputs": [],
   "source": [
    "defense_share_by_company = defense.groupby(\"Security Name\")[\"Base Market Value\"].sum().reset_index().sort_values(\"Base Market Value\", ascending = False)\n",
    "defense_share_by_company_top_15 = defense_share_by_company[0:15]\n",
    "\n",
    "fig = px.bar(\n",
    "    defense_share_by_company_top_15,\n",
    "    x=\"Security Name\",\n",
    "    y=\"Base Market Value\",\n",
    "    color=\"Security Name\",\n",
    "    title=\"Top 15 Defense Companies in our Portfolio\"\n",
    ")\n",
    "fig.update_layout(showlegend=False)\n",
    "fig.show()"
   ]
  }
 ],
 "metadata": {
  "kernelspec": {
   "display_name": "Python 3 (ipykernel)",
   "language": "python",
   "name": "python3"
  },
  "language_info": {
   "codemirror_mode": {
    "name": "ipython",
    "version": 3
   },
   "file_extension": ".py",
   "mimetype": "text/x-python",
   "name": "python",
   "nbconvert_exporter": "python",
   "pygments_lexer": "ipython3",
   "version": "3.11.4"
  }
 },
 "nbformat": 4,
 "nbformat_minor": 5
}
